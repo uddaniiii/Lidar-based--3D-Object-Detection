{
 "cells": [
  {
   "cell_type": "markdown",
   "metadata": {},
   "source": [
    "## import libraries"
   ]
  },
  {
   "cell_type": "code",
   "execution_count": 4,
   "metadata": {},
   "outputs": [],
   "source": [
    "import open3d as o3d\n",
    "import numpy as np\n",
    "import os\n",
    "import random\n",
    "import pandas as pd\n",
    "from collections import Counter\n",
    "import seaborn as sns\n",
    "import matplotlib.pyplot as plt\n",
    "#00100356"
   ]
  },
  {
   "cell_type": "markdown",
   "metadata": {},
   "source": [
    "## data random visualization"
   ]
  },
  {
   "cell_type": "markdown",
   "metadata": {},
   "source": []
  },
  {
   "cell_type": "code",
   "execution_count": 1,
   "metadata": {},
   "outputs": [
    {
     "name": "stdout",
     "output_type": "stream",
     "text": [
      "Jupyter environment detected. Enabling Open3D WebVisualizer.\n",
      "[Open3D INFO] WebRTC GUI backend enabled.\n",
      "[Open3D INFO] WebRTCWindowSystem: HTTP handshake server disabled.\n"
     ]
    }
   ],
   "source": [
    "# 폴더 경로 설정\n",
    "points_folder = 'D:/work/data/auto/3d_mod_av_db/points'\n",
    "labels_folder = 'D:/work/data/auto/3d_mod_av_db/labels'\n",
    "\n",
    "# .npy 파일 목록 가져오기\n",
    "npy_files = [f for f in os.listdir(points_folder) if f.endswith('.npy')]\n",
    "\n",
    "# 랜덤으로 하나의 .npy 파일 선택\n",
    "random_file = random.choice(npy_files)\n",
    "file_number = os.path.splitext(random_file)[0]  # 파일명에서 확장자 제거\n",
    "\n",
    "# LiDAR 데이터를 NumPy 배열로 불러오기\n",
    "data1 = np.load(os.path.join(points_folder, random_file))\n",
    "\n",
    "# 포인트 클라우드 객체 생성\n",
    "pcd1 = o3d.geometry.PointCloud()\n",
    "\n",
    "# X, Y, Z 좌표를 포인트 클라우드에 추가\n",
    "pcd1.points = o3d.utility.Vector3dVector(data1[:, :3])\n",
    "\n",
    "# 라벨 파일 읽기 함수\n",
    "def load_labels(file_path):\n",
    "    labels = []\n",
    "    with open(file_path, 'r') as f:\n",
    "        for line in f:\n",
    "            parts = line.strip().split()\n",
    "            x, y, z = map(float, parts[:3])  # 중심 좌표\n",
    "            length, width, height = map(float, parts[3:6])  # 크기\n",
    "            yaw = float(parts[6])  # 회전 각도\n",
    "            label = parts[7]  # 클래스 이름 (예: \"Vehicle\")\n",
    "            labels.append([x, y, z, length, width, height, yaw, label])\n",
    "    return labels\n",
    "\n",
    "# 라벨 파일 경로\n",
    "label_file = os.path.join(labels_folder, f'{file_number}.txt')\n",
    "label_data = load_labels(label_file)\n",
    "\n",
    "# Bounding Box와 텍스트를 시각화할 요소 리스트\n",
    "geometry_list = [pcd1]\n",
    "\n",
    "# 각 라벨 데이터를 처리하여 Bounding Box와 텍스트를 시각화\n",
    "for label in label_data:\n",
    "    # 중심 좌표 (x, y, z)\n",
    "    center = np.array([label[0], label[1], label[2]])\n",
    "\n",
    "    # 크기 (길이, 너비, 높이)\n",
    "    length, width, height = label[3], label[4], label[5]\n",
    "\n",
    "    # 회전 각도 (yaw)\n",
    "    yaw = label[6]\n",
    "\n",
    "    # Open3D 직육면체 생성\n",
    "    box = o3d.geometry.OrientedBoundingBox()\n",
    "    box.center = center\n",
    "    box.extent = np.array([length, width, height])\n",
    "\n",
    "    # Yaw 각도를 회전 행렬로 변환하여 적용 (yaw는 z축 회전을 의미)\n",
    "    R = box.get_rotation_matrix_from_xyz((0, 0, yaw))\n",
    "    box.rotate(R, center=box.center)\n",
    "\n",
    "    # Bounding box 색상 설정 (빨간색으로 설정)\n",
    "    box.color = (1, 0, 0)\n",
    "\n",
    "    # Bounding box 추가\n",
    "    geometry_list.append(box)\n",
    "\n",
    "# 포인트 클라우드와 bounding box 함께 시각화\n",
    "o3d.visualization.draw_geometries(geometry_list)\n"
   ]
  },
  {
   "cell_type": "markdown",
   "metadata": {},
   "source": [
    "## Summary Statistics"
   ]
  },
  {
   "cell_type": "markdown",
   "metadata": {},
   "source": [
    "###### 저는 노트북이라 1000개로 했습니당 .. ㅜㅜ 전체 데이터셋으로 돌려주실 데탑 구해요.."
   ]
  },
  {
   "cell_type": "code",
   "execution_count": 2,
   "metadata": {},
   "outputs": [
    {
     "name": "stdout",
     "output_type": "stream",
     "text": [
      "1000개 샘플 포인트 클라우드 통계 요약\n",
      "                  X             Y             Z\n",
      "count  1.193863e+08  1.193863e+08  1.193863e+08\n",
      "mean   1.292772e+00  1.299346e+00  1.262697e+00\n",
      "std    1.644928e+01  1.410342e+01  1.410282e+00\n",
      "min   -6.999998e+01 -6.999992e+01 -4.065072e+01\n",
      "25%   -6.040695e+00 -6.066164e+00  4.493821e-01\n",
      "50%    1.120000e+00  1.314832e-01  1.159857e+00\n",
      "75%    8.422773e+00  7.173555e+00  1.647730e+00\n",
      "max    6.999998e+01  6.999994e+01  2.869422e+01\n",
      "1000개 샘플 클래스 분포:\n",
      "Vehicle: 18086\n",
      "Pedestrian: 9453\n",
      "Cyclist: 1602\n"
     ]
    }
   ],
   "source": [
    "# 데이터셋 폴더 경로\n",
    "data_folder = 'D:/work/data/auto/3d_mod_av_db/points/'\n",
    "label_folder = 'D:/work/data/auto/3d_mod_av_db/labels/'\n",
    "\n",
    "# 전체 데이터를 저장할 리스트\n",
    "all_points = []\n",
    "all_labels = []\n",
    "\n",
    "# 파일 리스트 불러오기 (train 데이터셋 전부)\n",
    "file_list = os.listdir(data_folder)\n",
    "file_list = [f for f in file_list if f.endswith('.npy')]\n",
    "\n",
    "# 파일을 1000개로 제한\n",
    "sampled_file_list = file_list[:1000]\n",
    "\n",
    "# 각 파일을 반복적으로 불러오기 (1000개만)\n",
    "for file_name in sampled_file_list:\n",
    "    # 포인트 클라우드 데이터 불러오기\n",
    "    data = np.load(os.path.join(data_folder, file_name))\n",
    "    all_points.append(data)\n",
    "\n",
    "    # 라벨 데이터 불러오기\n",
    "    label_file = file_name.replace('.npy', '.txt')\n",
    "    label_data = load_labels(os.path.join(label_folder, label_file))\n",
    "    all_labels.extend(label_data)\n",
    "\n",
    "# 1000개 파일의 포인트 클라우드를 하나로 합치기\n",
    "all_points = np.vstack(all_points)\n",
    "\n",
    "# 포인트 클라우드 데이터 분석\n",
    "df_points = pd.DataFrame(all_points[:, :3], columns=['X', 'Y', 'Z'])\n",
    "print(\"1000개 샘플 포인트 클라우드 통계 요약\")\n",
    "print(df_points.describe())\n",
    "\n",
    "# 라벨 클래스 분포 분석\n",
    "label_classes = [label[-1] for label in all_labels]\n",
    "class_counts = Counter(label_classes)\n",
    "\n",
    "print(\"1000개 샘플 클래스 분포:\")\n",
    "for cls, count in class_counts.items():\n",
    "    print(f\"{cls}: {count}\")\n"
   ]
  },
  {
   "cell_type": "markdown",
   "metadata": {},
   "source": [
    "## 이상치, 결측치 확인\n",
    "###### 3D LiDAR 포인트 클라우드 데이터에서 이상치 탐색은 센서 오류나 물리적으로 불가능한 값으로 인한 학습 오류를 방지하기 위해, 결측치 탐색은 데이터 누락으로 인한 모델 성능 저하를 막기 위해 필요함."
   ]
  },
  {
   "cell_type": "markdown",
   "metadata": {},
   "source": [
    "#### 클래스별 Bounding Box 크기 분포 비교"
   ]
  },
  {
   "cell_type": "code",
   "execution_count": 29,
   "metadata": {},
   "outputs": [
    {
     "data": {
      "image/png": "[encoded data removed]",
      "text/plain": [
       "<Figure size 1500x500 with 3 Axes>"
      ]
     },
     "metadata": {},
     "output_type": "display_data"
    }
   ],
   "source": [
    "\n",
    "# 각 클래스별 Bounding Box 크기 분포를 확인\n",
    "vehicle_dims = [label[3:6] for label in all_labels if label[7] == 'Vehicle']\n",
    "pedestrian_dims = [label[3:6] for label in all_labels if label[7] == 'Pedestrian']\n",
    "cyclist_dims = [label[3:6] for label in all_labels if label[7] == 'Cyclist']\n",
    "\n",
    "# 데이터프레임으로 변환\n",
    "vehicle_df = pd.DataFrame(vehicle_dims, columns=['Length', 'Width', 'Height'])\n",
    "pedestrian_df = pd.DataFrame(pedestrian_dims, columns=['Length', 'Width', 'Height'])\n",
    "cyclist_df = pd.DataFrame(cyclist_dims, columns=['Length', 'Width', 'Height'])\n",
    "\n",
    "# 분포 시각화\n",
    "plt.figure(figsize=(15, 5))\n",
    "\n",
    "# Vehicle 크기\n",
    "plt.subplot(1, 3, 1)\n",
    "sns.boxplot(data=vehicle_df)\n",
    "plt.title(\"Vehicle Size Distribution\")\n",
    "\n",
    "# Pedestrian 크기\n",
    "plt.subplot(1, 3, 2)\n",
    "sns.boxplot(data=pedestrian_df)\n",
    "plt.title(\"Pedestrian Size Distribution\")\n",
    "\n",
    "# Cyclist 크기\n",
    "plt.subplot(1, 3, 3)\n",
    "sns.boxplot(data=cyclist_df)\n",
    "plt.title(\"Cyclist Size Distribution\")\n",
    "\n",
    "plt.tight_layout()\n",
    "plt.show()\n"
   ]
  },
  {
   "cell_type": "markdown",
   "metadata": {},
   "source": [
    "###### Length (길이): 차량의 길이는 대체로 3m ~ 6m 범위에 분포하고, 7m 이상은 드물게 나타남. 7m 이상을 이상치로 간주.\n",
    "###### Width (너비): 차량의 너비는 대부분 2m 이하로 나타나며, 2.5m 이상은 이상치로 간주.\n",
    "###### Height (높이): 차량의 높이는 대부분 2m 이하로, 2.5m 이상은 이상치로 간주."
   ]
  },
  {
   "cell_type": "code",
   "execution_count": 31,
   "metadata": {},
   "outputs": [],
   "source": [
    "\n",
    "# 각 클래스의 기준 (앞서 정의한 기준 사용)\n",
    "vehicle_box_thresholds = {'Length': 7, 'Width': 2.5, 'Height': 2.5}\n",
    "pedestrian_box_thresholds = {'Length': 1.5, 'Width': 0.8, 'Height': 2}\n",
    "cyclist_box_thresholds = {'Length': 2.5, 'Width': 1.2, 'Height': 2.5}\n",
    "\n",
    "# 이상치가 포함된 파일 및 해당 Bounding Box 찾기\n",
    "data_folder = 'D:/work/data/auto/3d_mod_av_db/points/'\n",
    "label_folder = 'D:/work/data/auto/3d_mod_av_db/labels/'\n",
    "\n",
    "point_files = [f for f in os.listdir(data_folder) if f.endswith('.npy')]\n",
    "label_files = [f.replace('.npy', '.txt') for f in point_files]\n",
    "\n",
    "outlier_file = None\n",
    "outlier_box = None\n",
    "\n",
    "for point_file, label_file in zip(point_files, label_files):\n",
    "    # 라벨 파일 로드\n",
    "    label_data = load_labels(os.path.join(label_folder, label_file))\n",
    "\n",
    "    for label in label_data:\n",
    "        length, width, height = label[3], label[4], label[5]\n",
    "        if label[7] == 'Vehicle' and (length > vehicle_box_thresholds['Length'] or width > vehicle_box_thresholds['Width'] or height > vehicle_box_thresholds['Height']):\n",
    "            outlier_file = point_file\n",
    "            outlier_box = label\n",
    "            break\n",
    "        elif label[7] == 'Pedestrian' and (length > pedestrian_box_thresholds['Length'] or width > pedestrian_box_thresholds['Width'] or height > pedestrian_box_thresholds['Height']):\n",
    "            outlier_file = point_file\n",
    "            outlier_box = label\n",
    "            break\n",
    "        elif label[7] == 'Cyclist' and (length > cyclist_box_thresholds['Length'] or width > cyclist_box_thresholds['Width'] or height > cyclist_box_thresholds['Height']):\n",
    "            outlier_file = point_file\n",
    "            outlier_box = label\n",
    "            break\n",
    "    if outlier_file:\n",
    "        break\n",
    "\n",
    "# 포인트 클라우드 데이터 시각화\n",
    "if outlier_file:\n",
    "    # 포인트 클라우드 로드\n",
    "    data = np.load(os.path.join(data_folder, outlier_file))\n",
    "    \n",
    "    # 포인트 클라우드 객체 생성\n",
    "    pcd = o3d.geometry.PointCloud()\n",
    "    pcd.points = o3d.utility.Vector3dVector(data[:, :3])\n",
    "    \n",
    "    # 이상치 Bounding Box 정보\n",
    "    x, y, z, length, width, height, yaw, label = outlier_box\n",
    "    \n",
    "    # Open3D Bounding Box 생성 및 파란색으로 설정\n",
    "    box = o3d.geometry.OrientedBoundingBox()\n",
    "    box.center = np.array([x, y, z])\n",
    "    box.extent = np.array([length, width, height])\n",
    "\n",
    "    # Yaw 각도를 회전 행렬로 변환하여 적용\n",
    "    R = box.get_rotation_matrix_from_xyz((0, 0, yaw))\n",
    "    box.rotate(R, center=box.center)\n",
    "\n",
    "    # Bounding Box 색상 설정 (진한 파랑색)\n",
    "    box.color = (0, 0, 1)\n",
    "\n",
    "    # 포인트 클라우드와 Bounding Box 함께 시각화\n",
    "    o3d.visualization.draw_geometries([pcd, box])\n",
    "else:\n",
    "    print(\"이상치 Bounding Box를 찾지 못했습니다.\")\n"
   ]
  },
  {
   "cell_type": "code",
   "execution_count": 5,
   "metadata": {},
   "outputs": [
    {
     "data": {
      "image/png": "[encoded data removed]",
      "text/plain": [
       "<Figure size 1000x600 with 1 Axes>"
      ]
     },
     "metadata": {},
     "output_type": "display_data"
    }
   ],
   "source": [
    "# Z축(높이) 기준으로 객체들의 높이 분포 시각화\n",
    "heights = all_points[:, 2]\n",
    "\n",
    "plt.figure(figsize=(10, 6))\n",
    "sns.histplot(heights, bins=50, color='blue')\n",
    "plt.title(\"Object Height Distribution\")\n",
    "plt.xlabel(\"Height (Z-axis)\")\n",
    "plt.ylabel(\"Frequency\")\n",
    "plt.show()\n"
   ]
  },
  {
   "cell_type": "markdown",
   "metadata": {},
   "source": [
    "###### Z축인 높이 값의 분포를 나타내며, 대부분의 객체가 지면(높이 0)에 가깝게 위치해 있음.\n",
    "###### 일부 객체는 음수 방향으로(지면 아래로) 상당히 떨어져 있음!(??) 높은 위치에도 라이다 3d 데이터 포인트 잡힘.\n",
    "###### 높은 위치는 터널이거나 등등 으로 보임."
   ]
  },
  {
   "cell_type": "markdown",
   "metadata": {},
   "source": [
    "#### z값이 음수인 포인트를 가지는 데이터 시각화"
   ]
  },
  {
   "cell_type": "markdown",
   "metadata": {},
   "source": [
    "###### 00100356.npy"
   ]
  },
  {
   "cell_type": "code",
   "execution_count": 12,
   "metadata": {},
   "outputs": [
    {
     "name": "stdout",
     "output_type": "stream",
     "text": [
      "[Open3D WARNING] GLFW Error: WGL: Failed to make context current: 요청한 변환 작업을 지원할 수 없습니다. \n"
     ]
    }
   ],
   "source": [
    "import os\n",
    "import random\n",
    "import numpy as np\n",
    "import open3d as o3d\n",
    "\n",
    "# 폴더 경로 설정\n",
    "points_folder = 'D:/work/data/auto/3d_mod_av_db/points'\n",
    "labels_folder = 'D:/work/data/auto/3d_mod_av_db/labels'\n",
    "\n",
    "# .npy 파일 목록 가져오기\n",
    "npy_files = [f for f in os.listdir(points_folder) if f.endswith('.npy')]\n",
    "\n",
    "# Z축 값이 음수인 파일들을 저장할 리스트\n",
    "negative_z_files = []\n",
    "\n",
    "# Z축 값이 음수인 파일을 탐색\n",
    "for npy_file in npy_files:\n",
    "    data = np.load(os.path.join(points_folder, npy_file))\n",
    "    if np.any(data[:, 2] < 0):  # Z값이 음수인 데이터가 있는지 확인\n",
    "        negative_z_files.append(npy_file)\n",
    "\n",
    "# Z축 값이 음수인 파일 중 하나를 랜덤으로 선택\n",
    "if negative_z_files:\n",
    "    random_file = random.choice(negative_z_files)\n",
    "    file_number = os.path.splitext(random_file)[0]  # 파일명에서 확장자 제거\n",
    "    \n",
    "    # LiDAR 데이터를 NumPy 배열로 불러오기\n",
    "    data1 = np.load(os.path.join(points_folder, random_file))\n",
    "\n",
    "    # 포인트 클라우드 객체 생성\n",
    "    pcd1 = o3d.geometry.PointCloud()\n",
    "    pcd1.points = o3d.utility.Vector3dVector(data1[:, :3])\n",
    "\n",
    "    # 라벨 파일 읽기 함수\n",
    "    def load_labels(file_path):\n",
    "        labels = []\n",
    "        with open(file_path, 'r') as f:\n",
    "            for line in f:\n",
    "                parts = line.strip().split()\n",
    "                x, y, z = map(float, parts[:3])  # 중심 좌표\n",
    "                length, width, height = map(float, parts[3:6])  # 크기\n",
    "                yaw = float(parts[6])  # 회전 각도\n",
    "                label = parts[7]  # 클래스 이름 (예: \"Vehicle\")\n",
    "                labels.append([x, y, z, length, width, height, yaw, label])\n",
    "        return labels\n",
    "\n",
    "    # 라벨 파일 경로\n",
    "    label_file = os.path.join(labels_folder, f'{file_number}.txt')\n",
    "    label_data = load_labels(label_file)\n",
    "\n",
    "    # Bounding Box와 텍스트를 시각화할 요소 리스트\n",
    "    geometry_list = [pcd1]\n",
    "\n",
    "    # 각 라벨 데이터를 처리하여 Bounding Box와 텍스트를 시각화\n",
    "    for label in label_data:\n",
    "        # 중심 좌표 (x, y, z)\n",
    "        center = np.array([label[0], label[1], label[2]])\n",
    "\n",
    "        # 크기 (길이, 너비, 높이)\n",
    "        length, width, height = label[3], label[4], label[5]\n",
    "\n",
    "        # 회전 각도 (yaw)\n",
    "        yaw = label[6]\n",
    "\n",
    "        # Open3D 직육면체 생성\n",
    "        box = o3d.geometry.OrientedBoundingBox()\n",
    "        box.center = center\n",
    "        box.extent = np.array([length, width, height])\n",
    "\n",
    "        # Yaw 각도를 회전 행렬로 변환하여 적용 (yaw는 z축 회전을 의미)\n",
    "        R = box.get_rotation_matrix_from_xyz((0, 0, yaw))\n",
    "        box.rotate(R, center=box.center)\n",
    "\n",
    "        # Bounding box 색상 설정 (빨간색으로 설정)\n",
    "        box.color = (1, 0, 0)\n",
    "\n",
    "        # Bounding box 추가\n",
    "        geometry_list.append(box)\n",
    "\n",
    "    # 포인트 클라우드와 bounding box 함께 시각화\n",
    "    o3d.visualization.draw_geometries(geometry_list)\n",
    "else:\n",
    "    print(\"Z축 값이 음수인 파일이 없습니다.\")\n"
   ]
  },
  {
   "cell_type": "markdown",
   "metadata": {},
   "source": [
    "###### 데이터 시각화 해보니까 z값이 음수인 포인터들이 있는데, 이런거 지워야 하나요?"
   ]
  }
 ],
 "metadata": {
  "kernelspec": {
   "display_name": "torch",
   "language": "python",
   "name": "torch"
  },
  "language_info": {
   "codemirror_mode": {
    "name": "ipython",
    "version": 3
   },
   "file_extension": ".py",
   "mimetype": "text/x-python",
   "name": "python",
   "nbconvert_exporter": "python",
   "pygments_lexer": "ipython3",
   "version": "3.11.9"
  }
 },
 "nbformat": 4,
 "nbformat_minor": 2
}
