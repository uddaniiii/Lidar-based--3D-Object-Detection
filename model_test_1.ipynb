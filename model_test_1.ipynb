{
 "cells": [
  {
   "cell_type": "code",
   "execution_count": 1,
   "metadata": {},
   "outputs": [
    {
     "name": "stdout",
     "output_type": "stream",
     "text": [
      "Jupyter environment detected. Enabling Open3D WebVisualizer.\n",
      "[Open3D INFO] WebRTC GUI backend enabled.\n",
      "[Open3D INFO] WebRTCWindowSystem: HTTP handshake server disabled.\n"
     ]
    }
   ],
   "source": [
    "import open3d as o3d\n",
    "import numpy as np\n",
    "import os\n",
    "import random\n",
    "import pandas as pd\n",
    "from collections import Counter\n",
    "# import seaborn as sns\n",
    "import matplotlib.pyplot as plt"
   ]
  },
  {
   "cell_type": "code",
   "execution_count": 20,
   "metadata": {},
   "outputs": [],
   "source": [
    "# 데이터셋 폴더 경로\n",
    "data_folder = '/mnt/c/Users/knzss/Desktop/자율주행 데이터 파일/3d_mod_av_db/points'\n",
    "label_folder = '/mnt/c/Users/knzss/Desktop/자율주행 데이터 파일/3d_mod_av_db/labels'\n",
    "\n",
    "# 파일 리스트 불러오기 (train 데이터셋 전부)\n",
    "data_list = os.listdir(data_folder)\n",
    "data_list = [f[:-4] for f in data_list if f.endswith('.npy')]\n",
    "\n",
    "label_list = os.listdir(label_folder)\n",
    "label_list = [f[:-4] for f in label_list if f.endswith('.txt')]\n",
    "\n",
    "# labels에 있는 데이터는 학습 데이터로, 없는 데이터는 제출용 테스트 데이터로 분리\n",
    "train_data_list = []\n",
    "final_test_data_list = []\n",
    "\n",
    "for file_name in data_list:\n",
    "    if file_name in label_list:\n",
    "        train_data_list.append(file_name)\n",
    "    else:\n",
    "        final_test_data_list.append(file_name)\n"
   ]
  },
  {
   "cell_type": "code",
   "execution_count": 21,
   "metadata": {},
   "outputs": [
    {
     "data": {
      "text/plain": [
       "(17174, 17174, 9519)"
      ]
     },
     "execution_count": 21,
     "metadata": {},
     "output_type": "execute_result"
    }
   ],
   "source": [
    "len(train_data_list), len(label_list), len(final_test_data_list)"
   ]
  },
  {
   "cell_type": "code",
   "execution_count": 22,
   "metadata": {},
   "outputs": [],
   "source": [
    "# train데이터 중에서 학습, 검증 테스트로 사용할 데이터 분리\n",
    "# 전체 데이터의 70퍼센트는 학습, 24퍼센트는 검증, 6퍼센트는 최종 테스트 검증에 사용\n",
    "\n",
    "train_data_idx = int(len(train_data_list) * 0.7)\n",
    "val_data_idx = int(len(train_data_list) * 0.24)\n",
    "\n",
    "train_data = train_data_list[:train_data_idx]\n",
    "val_data = train_data_list[train_data_idx:train_data_idx + val_data_idx]\n",
    "test_data = train_data_list[train_data_idx + val_data_idx:]"
   ]
  },
  {
   "cell_type": "code",
   "execution_count": 23,
   "metadata": {},
   "outputs": [
    {
     "data": {
      "text/plain": [
       "(12021, 4121, 1032)"
      ]
     },
     "execution_count": 23,
     "metadata": {},
     "output_type": "execute_result"
    }
   ],
   "source": [
    "len(train_data), len(val_data), len(test_data)"
   ]
  },
  {
   "cell_type": "code",
   "execution_count": null,
   "metadata": {},
   "outputs": [],
   "source": []
  }
 ],
 "metadata": {
  "kernelspec": {
   "display_name": "sd",
   "language": "python",
   "name": "python3"
  },
  "language_info": {
   "codemirror_mode": {
    "name": "ipython",
    "version": 3
   },
   "file_extension": ".py",
   "mimetype": "text/x-python",
   "name": "python",
   "nbconvert_exporter": "python",
   "pygments_lexer": "ipython3",
   "version": "3.11.9"
  }
 },
 "nbformat": 4,
 "nbformat_minor": 2
}
